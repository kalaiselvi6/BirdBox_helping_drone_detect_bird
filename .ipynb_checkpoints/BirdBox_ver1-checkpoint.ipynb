{
 "cells": [
  {
   "cell_type": "markdown",
   "id": "e7964319",
   "metadata": {},
   "source": [
    "# Bird Box\n",
    "Helping drone detects bird in the field of view, and potentially draw a plan to avoid it in advance."
   ]
  },
  {
   "cell_type": "code",
   "execution_count": null,
   "id": "33a0801b",
   "metadata": {},
   "outputs": [],
   "source": [
    "# data source: NABirds data set provided by the Cornell Lab of Ornithology\n",
    "# https://dl.allaboutbirds.org/nabirds\n",
    "# https://www.birds.cornell.edu/home\n"
   ]
  }
 ],
 "metadata": {
  "kernelspec": {
   "display_name": "Python 3",
   "language": "python",
   "name": "python3"
  },
  "language_info": {
   "codemirror_mode": {
    "name": "ipython",
    "version": 3
   },
   "file_extension": ".py",
   "mimetype": "text/x-python",
   "name": "python",
   "nbconvert_exporter": "python",
   "pygments_lexer": "ipython3",
   "version": "3.9.5"
  }
 },
 "nbformat": 4,
 "nbformat_minor": 5
}
