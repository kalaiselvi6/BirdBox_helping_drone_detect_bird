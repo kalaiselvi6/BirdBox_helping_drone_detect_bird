{
  "nbformat": 4,
  "nbformat_minor": 0,
  "metadata": {
    "colab": {
      "provenance": []
    },
    "kernelspec": {
      "name": "python3",
      "display_name": "Python 3"
    },
    "language_info": {
      "name": "python"
    }
  },
  "cells": [
    {
      "cell_type": "code",
      "source": [
        "from collections import defaultdict\n",
        "\n",
        "# Sample corpus\n",
        "corpus = [\n",
        "    \"He is Walter\",\n",
        "    \"He is William\",\n",
        "    \"He isn’t Peter or September\"\n",
        "]\n",
        "\n",
        "# Function to tokenize sentences\n",
        "def tokenize(sentence):\n",
        "    return sentence.split()\n",
        "\n",
        "# Function to calculate term frequency\n",
        "def compute_tf(corpus):\n",
        "    tf = []\n",
        "    for document in corpus:\n",
        "        tokens = tokenize(document)\n",
        "        tf_doc = defaultdict(float)\n",
        "        total_terms = len(tokens)\n",
        "        for token in tokens:\n",
        "            tf_doc[token] += 1.0 / total_terms\n",
        "        tf.append(tf_doc)\n",
        "    return tf\n",
        "\n",
        "# Calculate term frequency\n",
        "tf = compute_tf(corpus)\n",
        "\n",
        "# Print term frequency for each document\n",
        "for i, tf_doc in enumerate(tf):\n",
        "    print(f\"Term Frequency for document {i + 1}:\")\n",
        "    for term, freq in tf_doc.items():\n",
        "        print(f\"  {term}: {freq:.3f}\")\n"
      ],
      "metadata": {
        "colab": {
          "base_uri": "https://localhost:8080/"
        },
        "id": "yYMOCd0zjJxg",
        "outputId": "7c753750-7efc-4510-c4db-e197817a9326"
      },
      "execution_count": 1,
      "outputs": [
        {
          "output_type": "stream",
          "name": "stdout",
          "text": [
            "Term Frequency for document 1:\n",
            "  He: 0.333\n",
            "  is: 0.333\n",
            "  Walter: 0.333\n",
            "Term Frequency for document 2:\n",
            "  He: 0.333\n",
            "  is: 0.333\n",
            "  William: 0.333\n",
            "Term Frequency for document 3:\n",
            "  He: 0.200\n",
            "  isn’t: 0.200\n",
            "  Peter: 0.200\n",
            "  or: 0.200\n",
            "  September: 0.200\n"
          ]
        }
      ]
    },
    {
      "cell_type": "code",
      "execution_count": 2,
      "metadata": {
        "colab": {
          "base_uri": "https://localhost:8080/"
        },
        "outputId": "ba4c2706-e937-4a49-dcb0-dfce6b3ddb41",
        "id": "GExxFG2ujVSH"
      },
      "outputs": [
        {
          "output_type": "stream",
          "name": "stdout",
          "text": [
            "Vocabulary: ['are' 'can' 'create' 'embeddings' 'example' 'is' 'small' 'tensorflow'\n",
            " 'this' 'to' 'use' 'useful' 'very' 'we' 'word']\n",
            "Term Frequency Matrix:\n",
            " [[0 0 0 0 1 1 1 0 1 0 0 0 0 0 0]\n",
            " [1 0 0 1 0 0 0 0 0 0 0 1 1 0 1]\n",
            " [0 1 1 1 0 0 0 1 0 1 1 0 0 1 0]]\n"
          ]
        }
      ],
      "source": [
        "from sklearn.feature_extraction.text import CountVectorizer\n",
        "\n",
        "# Sample corpus\n",
        "corpus = [\n",
        "    \"this is a small example\",\n",
        "    \"word embeddings are very useful\",\n",
        "    \"we can use tensorflow to create embeddings\"\n",
        "]\n",
        "\n",
        "# Initialize the CountVectorizer with term frequency\n",
        "vectorizer = CountVectorizer()\n",
        "\n",
        "# Fit and transform the corpus to term frequency vectors\n",
        "X = vectorizer.fit_transform(corpus)\n",
        "\n",
        "# Convert the term frequency matrix to an array\n",
        "tf_array = X.toarray()\n",
        "\n",
        "# Get the feature names (vocabulary)\n",
        "feature_names = vectorizer.get_feature_names_out()\n",
        "\n",
        "print(\"Vocabulary:\", feature_names)\n",
        "print(\"Term Frequency Matrix:\\n\", tf_array)\n"
      ]
    }
  ]
}