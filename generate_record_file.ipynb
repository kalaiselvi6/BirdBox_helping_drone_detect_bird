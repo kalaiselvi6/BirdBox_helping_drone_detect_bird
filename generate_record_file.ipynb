{
 "cells": [
  {
   "cell_type": "markdown",
   "source": [
    "# Generate TF records to be used for model training and evaluation \r\n",
    "Credit: https://github.com/nicknochnack/GenerateTFRecord/blob/main/generate_tfrecord.py"
   ],
   "metadata": {}
  },
  {
   "cell_type": "code",
   "execution_count": 1,
   "source": [
    "import os"
   ],
   "outputs": [],
   "metadata": {}
  },
  {
   "cell_type": "code",
   "execution_count": null,
   "source": [
    "# refer to recommend folder structure for path reference\r\n",
    "SCRIPTS_PATH = r'Tensorflow\\\\scripts'\r\n",
    "SCRIPT = r'Tensorflow\\\\scripts\\\\generate_tfrecord.py'\r\n",
    "TF_RECORD_DIR = r'Tensorflow\\\\workspace\\\\TF_files'\r\n",
    "SAMPLE_PATH = r'Tensorflow\\\\workspace\\\\samples'\r\n"
   ],
   "outputs": [],
   "metadata": {}
  },
  {
   "cell_type": "code",
   "execution_count": null,
   "source": [
    "# cloning label map to local machine \r\n",
    "if not os.path.exists(os.path.join(TF_RECORD_DIR, 'label_map.pbtxt')):\r\n",
    "    !git clone \r\n"
   ],
   "outputs": [],
   "metadata": {}
  },
  {
   "cell_type": "code",
   "execution_count": null,
   "source": [
    "# cloning a script to be used for generating records \r\n",
    "if not os.path.exists(SCRIPT): # check whether or not the script has already been cloned\r\n",
    "    !git clone https://github.com/nicknochnack/GenerateTFRecord {SCRIPTS_PATH}\r\n"
   ],
   "outputs": [],
   "metadata": {}
  },
  {
   "cell_type": "code",
   "execution_count": null,
   "source": [
    "# creating train record\r\n",
    "!python {SCRIPT} -x {} -l {files['LABELMAP']} -o {os.path.join(paths['ANNOTATION_PATH'], 'train.record')} "
   ],
   "outputs": [],
   "metadata": {}
  }
 ],
 "metadata": {
  "orig_nbformat": 4,
  "language_info": {
   "name": "python",
   "version": "3.9.5",
   "mimetype": "text/x-python",
   "codemirror_mode": {
    "name": "ipython",
    "version": 3
   },
   "pygments_lexer": "ipython3",
   "nbconvert_exporter": "python",
   "file_extension": ".py"
  },
  "kernelspec": {
   "name": "python3",
   "display_name": "Python 3.9.5 64-bit"
  },
  "interpreter": {
   "hash": "cb56db8f1703baa73f0f32383045b1abccdeb956c138b49baeca4ad9a0fbb052"
  }
 },
 "nbformat": 4,
 "nbformat_minor": 2
}