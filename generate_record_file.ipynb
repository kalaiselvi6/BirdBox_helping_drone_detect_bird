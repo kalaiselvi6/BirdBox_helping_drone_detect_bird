{
 "cells": [
  {
   "cell_type": "markdown",
   "source": [
    "# Generate TF records to be used for model training and evaluation \r\n",
    "Credit: [https://github.com/nicknochnack/GenerateTFRecord/blob/main/generate_tfrecord.py](https://github.com/nicknochnack/GenerateTFRecord/blob/main/generate_tfrecord.py)"
   ],
   "metadata": {}
  },
  {
   "cell_type": "code",
   "execution_count": 1,
   "source": [
    "import os"
   ],
   "outputs": [],
   "metadata": {}
  },
  {
   "cell_type": "code",
   "execution_count": null,
   "source": [
    "# refer to recommend folder structure for path reference\r\n",
    "SCRIPTS_PATH = r'Tensorflow\\\\scripts'\r\n",
    "SCRIPT = r'Tensorflow\\\\scripts\\\\generate_tfrecord.py'\r\n",
    "TF_RECORD_DIR = r'Tensorflow\\\\workspace\\\\TF_files'\r\n",
    "SAMPLE_PATH = r'Tensorflow\\\\workspace\\\\samples'\r\n",
    "LABEL_MAP_FILE = os.path.join(TF_RECORD_DIR, 'label_map.pbtxt')"
   ],
   "outputs": [],
   "metadata": {}
  },
  {
   "cell_type": "code",
   "execution_count": null,
   "source": [
    "# cloning label map to local machine \r\n",
    "if not os.path.exists(LABEL_MAP_FILE):\r\n",
    "    !git clone https://github.com/khanin-th/tf_bird_label_mapping.git {TF_RECORD_DIR}"
   ],
   "outputs": [],
   "metadata": {}
  },
  {
   "cell_type": "code",
   "execution_count": null,
   "source": [
    "# cloning a script to be used for generating records \r\n",
    "if not os.path.exists(SCRIPT): # check whether or not the script has already been cloned\r\n",
    "    !git clone https://github.com/nicknochnack/GenerateTFRecord {SCRIPTS_PATH}"
   ],
   "outputs": [],
   "metadata": {}
  },
  {
   "cell_type": "markdown",
   "source": [
    "The following cells can ake awhile depending on your sample sizes"
   ],
   "metadata": {}
  },
  {
   "cell_type": "code",
   "execution_count": null,
   "source": [
    "# creating train record\r\n",
    "TRAIN = os.path.join(SAMPLE_PATH, 'train')\r\n",
    "TRAIN_RECORD = os.path.join(TF_RECORD_DIR, 'train.record')\r\n",
    "!python {SCRIPT} -x {TRAIN} -l {LABEL_MAP_FILE} -o {TRAIN_RECORD} "
   ],
   "outputs": [],
   "metadata": {}
  },
  {
   "cell_type": "code",
   "execution_count": null,
   "source": [
    "# creating test record\r\n",
    "TEST = os.path.join(SAMPLE_PATH, 'test')\r\n",
    "TEST_RECORD = os.path.join(TF_RECORD_DIR, 'test.record')\r\n",
    "!python {SCRIPT} -x {TEST} -l {LABEL_MAP_FILE} -o {TEST_RECORD} "
   ],
   "outputs": [],
   "metadata": {}
  }
 ],
 "metadata": {
  "orig_nbformat": 4,
  "language_info": {
   "name": "python",
   "version": "3.9.5",
   "mimetype": "text/x-python",
   "codemirror_mode": {
    "name": "ipython",
    "version": 3
   },
   "pygments_lexer": "ipython3",
   "nbconvert_exporter": "python",
   "file_extension": ".py"
  },
  "kernelspec": {
   "name": "python3",
   "display_name": "Python 3.9.5 64-bit"
  },
  "interpreter": {
   "hash": "cb56db8f1703baa73f0f32383045b1abccdeb956c138b49baeca4ad9a0fbb052"
  }
 },
 "nbformat": 4,
 "nbformat_minor": 2
}